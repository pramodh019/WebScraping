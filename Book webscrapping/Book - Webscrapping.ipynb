{
 "cells": [
  {
   "cell_type": "markdown",
   "id": "57437286-e729-4618-9126-a7ce758becd2",
   "metadata": {},
   "source": [
    "## scrapping book info from homepage or 1 page"
   ]
  },
  {
   "cell_type": "code",
   "execution_count": 1,
   "id": "7fca84ef-b68e-419d-86e0-008c83c7ef75",
   "metadata": {},
   "outputs": [],
   "source": [
    "import requests\n",
    "from bs4 import BeautifulSoup"
   ]
  },
  {
   "cell_type": "code",
   "execution_count": 2,
   "id": "ecdef4d9-3df4-4651-9a05-302b8a0c1c8d",
   "metadata": {},
   "outputs": [],
   "source": [
    "website_link = 'https://books.toscrape.com/'"
   ]
  },
  {
   "cell_type": "code",
   "execution_count": 3,
   "id": "0bd703a6-d676-4ac4-9d3c-7bf594ccace4",
   "metadata": {},
   "outputs": [],
   "source": [
    "res  = requests.get(website_link)\n",
    "soup = BeautifulSoup(res.text,'html.parser')"
   ]
  },
  {
   "cell_type": "code",
   "execution_count": 4,
   "id": "20bf63ad-3c44-4c04-a9e7-f73a271793fd",
   "metadata": {},
   "outputs": [],
   "source": [
    "data= []\n",
    "for sp in soup.find_all('li',class_=\"col-xs-6 col-sm-4 col-md-3 col-lg-3\"):\n",
    "    \n",
    "    \n",
    "    img_link = 'https://books.toscrape.com/'+ sp.find('img').get('src')\n",
    "    title    = sp.find_all('a')[-1].get('title')\n",
    "    book_link= 'https://books.toscrape.com/'+ sp.find_all('a')[-1].get('href')\n",
    "    rating   = sp.find('p').get('class')[-1]\n",
    "    price    = sp.find('p',class_=\"price_color\").text[1:]\n",
    "    stock    = sp.find('p',class_=\"instock availability\").text.strip()\n",
    "\n",
    "    data.append([title,img_link,book_link,rating,price,stock])\n",
    "\n"
   ]
  },
  {
   "cell_type": "code",
   "execution_count": 5,
   "id": "f9a4a956-a5b2-46be-b24b-180f573cf264",
   "metadata": {},
   "outputs": [
    {
     "data": {
      "text/plain": [
       "[['A Light in the Attic',\n",
       "  'https://books.toscrape.com/media/cache/2c/da/2cdad67c44b002e7ead0cc35693c0e8b.jpg',\n",
       "  'https://books.toscrape.com/catalogue/a-light-in-the-attic_1000/index.html',\n",
       "  'Three',\n",
       "  '£51.77',\n",
       "  'In stock'],\n",
       " ['Tipping the Velvet',\n",
       "  'https://books.toscrape.com/media/cache/26/0c/260c6ae16bce31c8f8c95daddd9f4a1c.jpg',\n",
       "  'https://books.toscrape.com/catalogue/tipping-the-velvet_999/index.html',\n",
       "  'One',\n",
       "  '£53.74',\n",
       "  'In stock'],\n",
       " ['Soumission',\n",
       "  'https://books.toscrape.com/media/cache/3e/ef/3eef99c9d9adef34639f510662022830.jpg',\n",
       "  'https://books.toscrape.com/catalogue/soumission_998/index.html',\n",
       "  'One',\n",
       "  '£50.10',\n",
       "  'In stock'],\n",
       " ['Sharp Objects',\n",
       "  'https://books.toscrape.com/media/cache/32/51/3251cf3a3412f53f339e42cac2134093.jpg',\n",
       "  'https://books.toscrape.com/catalogue/sharp-objects_997/index.html',\n",
       "  'Four',\n",
       "  '£47.82',\n",
       "  'In stock'],\n",
       " ['Sapiens: A Brief History of Humankind',\n",
       "  'https://books.toscrape.com/media/cache/be/a5/bea5697f2534a2f86a3ef27b5a8c12a6.jpg',\n",
       "  'https://books.toscrape.com/catalogue/sapiens-a-brief-history-of-humankind_996/index.html',\n",
       "  'Five',\n",
       "  '£54.23',\n",
       "  'In stock'],\n",
       " ['The Requiem Red',\n",
       "  'https://books.toscrape.com/media/cache/68/33/68339b4c9bc034267e1da611ab3b34f8.jpg',\n",
       "  'https://books.toscrape.com/catalogue/the-requiem-red_995/index.html',\n",
       "  'One',\n",
       "  '£22.65',\n",
       "  'In stock'],\n",
       " ['The Dirty Little Secrets of Getting Your Dream Job',\n",
       "  'https://books.toscrape.com/media/cache/92/27/92274a95b7c251fea59a2b8a78275ab4.jpg',\n",
       "  'https://books.toscrape.com/catalogue/the-dirty-little-secrets-of-getting-your-dream-job_994/index.html',\n",
       "  'Four',\n",
       "  '£33.34',\n",
       "  'In stock'],\n",
       " ['The Coming Woman: A Novel Based on the Life of the Infamous Feminist, Victoria Woodhull',\n",
       "  'https://books.toscrape.com/media/cache/3d/54/3d54940e57e662c4dd1f3ff00c78cc64.jpg',\n",
       "  'https://books.toscrape.com/catalogue/the-coming-woman-a-novel-based-on-the-life-of-the-infamous-feminist-victoria-woodhull_993/index.html',\n",
       "  'Three',\n",
       "  '£17.93',\n",
       "  'In stock'],\n",
       " ['The Boys in the Boat: Nine Americans and Their Epic Quest for Gold at the 1936 Berlin Olympics',\n",
       "  'https://books.toscrape.com/media/cache/66/88/66883b91f6804b2323c8369331cb7dd1.jpg',\n",
       "  'https://books.toscrape.com/catalogue/the-boys-in-the-boat-nine-americans-and-their-epic-quest-for-gold-at-the-1936-berlin-olympics_992/index.html',\n",
       "  'Four',\n",
       "  '£22.60',\n",
       "  'In stock'],\n",
       " ['The Black Maria',\n",
       "  'https://books.toscrape.com/media/cache/58/46/5846057e28022268153beff6d352b06c.jpg',\n",
       "  'https://books.toscrape.com/catalogue/the-black-maria_991/index.html',\n",
       "  'One',\n",
       "  '£52.15',\n",
       "  'In stock'],\n",
       " ['Starving Hearts (Triangular Trade Trilogy, #1)',\n",
       "  'https://books.toscrape.com/media/cache/be/f4/bef44da28c98f905a3ebec0b87be8530.jpg',\n",
       "  'https://books.toscrape.com/catalogue/starving-hearts-triangular-trade-trilogy-1_990/index.html',\n",
       "  'Two',\n",
       "  '£13.99',\n",
       "  'In stock'],\n",
       " [\"Shakespeare's Sonnets\",\n",
       "  'https://books.toscrape.com/media/cache/10/48/1048f63d3b5061cd2f424d20b3f9b666.jpg',\n",
       "  'https://books.toscrape.com/catalogue/shakespeares-sonnets_989/index.html',\n",
       "  'Four',\n",
       "  '£20.66',\n",
       "  'In stock'],\n",
       " ['Set Me Free',\n",
       "  'https://books.toscrape.com/media/cache/5b/88/5b88c52633f53cacf162c15f4f823153.jpg',\n",
       "  'https://books.toscrape.com/catalogue/set-me-free_988/index.html',\n",
       "  'Five',\n",
       "  '£17.46',\n",
       "  'In stock'],\n",
       " [\"Scott Pilgrim's Precious Little Life (Scott Pilgrim #1)\",\n",
       "  'https://books.toscrape.com/media/cache/94/b1/94b1b8b244bce9677c2f29ccc890d4d2.jpg',\n",
       "  'https://books.toscrape.com/catalogue/scott-pilgrims-precious-little-life-scott-pilgrim-1_987/index.html',\n",
       "  'Five',\n",
       "  '£52.29',\n",
       "  'In stock'],\n",
       " ['Rip it Up and Start Again',\n",
       "  'https://books.toscrape.com/media/cache/81/c4/81c4a973364e17d01f217e1188253d5e.jpg',\n",
       "  'https://books.toscrape.com/catalogue/rip-it-up-and-start-again_986/index.html',\n",
       "  'Five',\n",
       "  '£35.02',\n",
       "  'In stock'],\n",
       " ['Our Band Could Be Your Life: Scenes from the American Indie Underground, 1981-1991',\n",
       "  'https://books.toscrape.com/media/cache/54/60/54607fe8945897cdcced0044103b10b6.jpg',\n",
       "  'https://books.toscrape.com/catalogue/our-band-could-be-your-life-scenes-from-the-american-indie-underground-1981-1991_985/index.html',\n",
       "  'Three',\n",
       "  '£57.25',\n",
       "  'In stock'],\n",
       " ['Olio',\n",
       "  'https://books.toscrape.com/media/cache/55/33/553310a7162dfbc2c6d19a84da0df9e1.jpg',\n",
       "  'https://books.toscrape.com/catalogue/olio_984/index.html',\n",
       "  'One',\n",
       "  '£23.88',\n",
       "  'In stock'],\n",
       " ['Mesaerion: The Best Science Fiction Stories 1800-1849',\n",
       "  'https://books.toscrape.com/media/cache/09/a3/09a3aef48557576e1a85ba7efea8ecb7.jpg',\n",
       "  'https://books.toscrape.com/catalogue/mesaerion-the-best-science-fiction-stories-1800-1849_983/index.html',\n",
       "  'One',\n",
       "  '£37.59',\n",
       "  'In stock'],\n",
       " ['Libertarianism for Beginners',\n",
       "  'https://books.toscrape.com/media/cache/0b/bc/0bbcd0a6f4bcd81ccb1049a52736406e.jpg',\n",
       "  'https://books.toscrape.com/catalogue/libertarianism-for-beginners_982/index.html',\n",
       "  'Two',\n",
       "  '£51.33',\n",
       "  'In stock'],\n",
       " [\"It's Only the Himalayas\",\n",
       "  'https://books.toscrape.com/media/cache/27/a5/27a53d0bb95bdd88288eaf66c9230d7e.jpg',\n",
       "  'https://books.toscrape.com/catalogue/its-only-the-himalayas_981/index.html',\n",
       "  'Two',\n",
       "  '£45.17',\n",
       "  'In stock']]"
      ]
     },
     "execution_count": 5,
     "metadata": {},
     "output_type": "execute_result"
    }
   ],
   "source": [
    "data"
   ]
  },
  {
   "cell_type": "markdown",
   "id": "1b1ca989-a7eb-46b7-b0a8-cd315b90a32d",
   "metadata": {},
   "source": [
    "## scrapping books info from multiplepages"
   ]
  },
  {
   "cell_type": "code",
   "execution_count": 6,
   "id": "fe62f024-5370-4b9a-9c04-4b7610fc19b5",
   "metadata": {},
   "outputs": [
    {
     "name": "stderr",
     "output_type": "stream",
     "text": [
      "100%|██████████████████████████████████████████████████████████████████████████████████| 50/50 [01:54<00:00,  2.28s/it]\n"
     ]
    }
   ],
   "source": [
    "from tqdm import tqdm\n",
    "\n",
    "data = []\n",
    "\n",
    "for page in tqdm(range(1, 51)):\n",
    "    multiple_page = 'https://books.toscrape.com/catalogue/page-' + str(page) + '.html'\n",
    "    res = requests.get(multiple_page)\n",
    "    soup = BeautifulSoup(res.text, 'html.parser')\n",
    "\n",
    "    \n",
    "    for sp in soup.find_all('li', class_=\"col-xs-6 col-sm-4 col-md-3 col-lg-3\"):\n",
    "        img_link = 'https://books.toscrape.com/' + sp.find('img').get('src')\n",
    "        title = sp.find_all('a')[-1].get('title')\n",
    "        book_link = 'https://books.toscrape.com/catalogue/' + sp.find_all('a')[-1].get('href')\n",
    "        rating = sp.find('p').get('class')[-1]\n",
    "        price = sp.find('p', class_=\"price_color\").text[1:]\n",
    "        stock = sp.find('p', class_=\"instock availability\").text.strip()\n",
    "\n",
    "        data.append([title, img_link, book_link, rating, price, stock])"
   ]
  },
  {
   "cell_type": "code",
   "execution_count": 7,
   "id": "7f13a7ba-36d1-45e0-b86b-9aebb1f313a2",
   "metadata": {},
   "outputs": [],
   "source": [
    "import pandas as pd"
   ]
  },
  {
   "cell_type": "code",
   "execution_count": 8,
   "id": "b82e96f4-7d84-4677-a968-ae4dcc869cb9",
   "metadata": {},
   "outputs": [],
   "source": [
    "df= pd.DataFrame(data,columns=['title', 'img_link', 'book_link', 'rating', 'price','stock'])\n",
    "\n"
   ]
  },
  {
   "cell_type": "code",
   "execution_count": 9,
   "id": "90de4c86-3990-4c71-85d6-fd121211f5bd",
   "metadata": {},
   "outputs": [
    {
     "data": {
      "text/html": [
       "<div>\n",
       "<style scoped>\n",
       "    .dataframe tbody tr th:only-of-type {\n",
       "        vertical-align: middle;\n",
       "    }\n",
       "\n",
       "    .dataframe tbody tr th {\n",
       "        vertical-align: top;\n",
       "    }\n",
       "\n",
       "    .dataframe thead th {\n",
       "        text-align: right;\n",
       "    }\n",
       "</style>\n",
       "<table border=\"1\" class=\"dataframe\">\n",
       "  <thead>\n",
       "    <tr style=\"text-align: right;\">\n",
       "      <th></th>\n",
       "      <th>title</th>\n",
       "      <th>img_link</th>\n",
       "      <th>book_link</th>\n",
       "      <th>rating</th>\n",
       "      <th>price</th>\n",
       "      <th>stock</th>\n",
       "    </tr>\n",
       "  </thead>\n",
       "  <tbody>\n",
       "    <tr>\n",
       "      <th>0</th>\n",
       "      <td>A Light in the Attic</td>\n",
       "      <td>https://books.toscrape.com/../media/cache/2c/d...</td>\n",
       "      <td>https://books.toscrape.com/catalogue/a-light-i...</td>\n",
       "      <td>Three</td>\n",
       "      <td>£51.77</td>\n",
       "      <td>In stock</td>\n",
       "    </tr>\n",
       "    <tr>\n",
       "      <th>1</th>\n",
       "      <td>Tipping the Velvet</td>\n",
       "      <td>https://books.toscrape.com/../media/cache/26/0...</td>\n",
       "      <td>https://books.toscrape.com/catalogue/tipping-t...</td>\n",
       "      <td>One</td>\n",
       "      <td>£53.74</td>\n",
       "      <td>In stock</td>\n",
       "    </tr>\n",
       "    <tr>\n",
       "      <th>2</th>\n",
       "      <td>Soumission</td>\n",
       "      <td>https://books.toscrape.com/../media/cache/3e/e...</td>\n",
       "      <td>https://books.toscrape.com/catalogue/soumissio...</td>\n",
       "      <td>One</td>\n",
       "      <td>£50.10</td>\n",
       "      <td>In stock</td>\n",
       "    </tr>\n",
       "    <tr>\n",
       "      <th>3</th>\n",
       "      <td>Sharp Objects</td>\n",
       "      <td>https://books.toscrape.com/../media/cache/32/5...</td>\n",
       "      <td>https://books.toscrape.com/catalogue/sharp-obj...</td>\n",
       "      <td>Four</td>\n",
       "      <td>£47.82</td>\n",
       "      <td>In stock</td>\n",
       "    </tr>\n",
       "    <tr>\n",
       "      <th>4</th>\n",
       "      <td>Sapiens: A Brief History of Humankind</td>\n",
       "      <td>https://books.toscrape.com/../media/cache/be/a...</td>\n",
       "      <td>https://books.toscrape.com/catalogue/sapiens-a...</td>\n",
       "      <td>Five</td>\n",
       "      <td>£54.23</td>\n",
       "      <td>In stock</td>\n",
       "    </tr>\n",
       "  </tbody>\n",
       "</table>\n",
       "</div>"
      ],
      "text/plain": [
       "                                   title  \\\n",
       "0                   A Light in the Attic   \n",
       "1                     Tipping the Velvet   \n",
       "2                             Soumission   \n",
       "3                          Sharp Objects   \n",
       "4  Sapiens: A Brief History of Humankind   \n",
       "\n",
       "                                            img_link  \\\n",
       "0  https://books.toscrape.com/../media/cache/2c/d...   \n",
       "1  https://books.toscrape.com/../media/cache/26/0...   \n",
       "2  https://books.toscrape.com/../media/cache/3e/e...   \n",
       "3  https://books.toscrape.com/../media/cache/32/5...   \n",
       "4  https://books.toscrape.com/../media/cache/be/a...   \n",
       "\n",
       "                                           book_link rating   price     stock  \n",
       "0  https://books.toscrape.com/catalogue/a-light-i...  Three  £51.77  In stock  \n",
       "1  https://books.toscrape.com/catalogue/tipping-t...    One  £53.74  In stock  \n",
       "2  https://books.toscrape.com/catalogue/soumissio...    One  £50.10  In stock  \n",
       "3  https://books.toscrape.com/catalogue/sharp-obj...   Four  £47.82  In stock  \n",
       "4  https://books.toscrape.com/catalogue/sapiens-a...   Five  £54.23  In stock  "
      ]
     },
     "execution_count": 9,
     "metadata": {},
     "output_type": "execute_result"
    }
   ],
   "source": [
    "df.head()"
   ]
  },
  {
   "cell_type": "code",
   "execution_count": 11,
   "id": "0cbdb778-0feb-41b9-badf-6d18a9553980",
   "metadata": {},
   "outputs": [],
   "source": [
    "df.to_excel('book scrapping.xlsx',index=False)"
   ]
  },
  {
   "cell_type": "markdown",
   "id": "f1f93eb4-76d4-4a0c-ba99-520b75a91c56",
   "metadata": {},
   "source": [
    "## scrapping individual book info from each book"
   ]
  },
  {
   "cell_type": "code",
   "execution_count": 20,
   "id": "0e1a2ba0-58a6-48c8-8e45-5b0884542ba5",
   "metadata": {},
   "outputs": [],
   "source": [
    "df = pd.read_excel('book scrapping.xlsx')"
   ]
  },
  {
   "cell_type": "code",
   "execution_count": 21,
   "id": "9fc97d3f-583f-45e6-99ab-74dec6b19c70",
   "metadata": {},
   "outputs": [
    {
     "name": "stderr",
     "output_type": "stream",
     "text": [
      "100%|██████████████████████████████████████████████████████████████████████████████| 1000/1000 [23:50<00:00,  1.43s/it]\n"
     ]
    }
   ],
   "source": [
    "data=[]\n",
    "for link in tqdm(df['book_link']):\n",
    "    res = requests.get(link,timeout=10)\n",
    "    soup = BeautifulSoup(res.text,'html.parser')\n",
    "\n",
    "    typ                = soup.find('ul',class_='breadcrumb').find_all('a')[2].text\n",
    "    stock_availability = soup.find('p',class_='instock availability').text.strip()\n",
    "    \n",
    "    UPC = soup.find_all('td')[0].text\n",
    "    prod_typ = soup.find_all('td')[1].text\n",
    "    price_ex=soup.find_all('td')[2].text[1:]\n",
    "    price_in=soup.find_all('td')[3].text[1:]\n",
    "    tax=soup.find_all('td')[4].text[1:]\n",
    "    reviews=soup.find_all('td')[6].text\n",
    "\n",
    "    \n",
    "    \n",
    "\n",
    "    data.append([typ,stock_availability,UPC,prod_typ,price_ex,price_in,tax,reviews])\n",
    "    \n",
    "    "
   ]
  },
  {
   "cell_type": "code",
   "execution_count": 22,
   "id": "f3476ffd-7bc0-414a-b9be-fd400d6b52ba",
   "metadata": {},
   "outputs": [],
   "source": [
    "df1= pd.DataFrame(data,columns=['typ','stock_availability','UPC','prod_typ','price_ex','price_in','tax','reviews'])"
   ]
  },
  {
   "cell_type": "code",
   "execution_count": 23,
   "id": "e86b05f2-818b-4dbf-9841-558cb7c4e376",
   "metadata": {},
   "outputs": [],
   "source": [
    "df1.to_excel('book scrapping1.xlsx')"
   ]
  },
  {
   "cell_type": "markdown",
   "id": "4cf30df9-e77d-46aa-9e0d-b1ee88bd8673",
   "metadata": {},
   "source": [
    "## combining the dataframes"
   ]
  },
  {
   "cell_type": "code",
   "execution_count": 26,
   "id": "0f90dd27-2f71-46c7-a7b2-796b74f36235",
   "metadata": {},
   "outputs": [],
   "source": [
    "df_1 = pd.read_excel('book scrapping.xlsx')\n",
    "df_2 = pd.read_excel('book scrapping1.xlsx')\n",
    "\n",
    "\n",
    "df3 = pd.DataFrame()\n",
    "\n",
    "df3['title']         = df_1['title']\n",
    "df3['upc']           = df_2['UPC']\n",
    "df3['category']      = df_2['prod_typ']\n",
    "df3['price_e_tax']   = df_2['price_ex']\n",
    "df3['price_i_tax']   = df_2['price_in']\n",
    "df3['tax']           = df_2['tax']\n",
    "df3['rating']        = df_1['rating']\n",
    "df3['reviews']       = df_2['reviews']\n",
    "df3['stock']         = df_2['stock_availability']\n",
    "\n",
    "df3['book_link']     = df_1['book_link']\n",
    "df3['img_link']      = df_1['img_link']\n"
   ]
  },
  {
   "cell_type": "code",
   "execution_count": 29,
   "id": "b631631f-2fa8-4c92-932a-c2cdbe99c43e",
   "metadata": {},
   "outputs": [],
   "source": [
    "df3.to_excel('combined book scrapping.xlsx',index=False)"
   ]
  },
  {
   "cell_type": "code",
   "execution_count": null,
   "id": "c59cd164-e861-4b89-81db-a65c4b8f3159",
   "metadata": {},
   "outputs": [],
   "source": []
  }
 ],
 "metadata": {
  "kernelspec": {
   "display_name": "Python 3 (ipykernel)",
   "language": "python",
   "name": "python3"
  },
  "language_info": {
   "codemirror_mode": {
    "name": "ipython",
    "version": 3
   },
   "file_extension": ".py",
   "mimetype": "text/x-python",
   "name": "python",
   "nbconvert_exporter": "python",
   "pygments_lexer": "ipython3",
   "version": "3.12.2"
  }
 },
 "nbformat": 4,
 "nbformat_minor": 5
}
