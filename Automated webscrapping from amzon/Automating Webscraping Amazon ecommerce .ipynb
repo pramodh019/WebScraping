{
 "cells": [
  {
   "cell_type": "code",
   "execution_count": 1,
   "id": "7f1096c5-9fb1-412a-ae94-0733cef4f4bd",
   "metadata": {
    "scrolled": true
   },
   "outputs": [
    {
     "name": "stdout",
     "output_type": "stream",
     "text": [
      "Requirement already satisfied: autoscraper in c:\\users\\pramo\\appdata\\local\\programs\\python\\python312\\lib\\site-packages (1.1.14)\n",
      "Requirement already satisfied: requests in c:\\users\\pramo\\appdata\\local\\programs\\python\\python312\\lib\\site-packages (from autoscraper) (2.31.0)\n",
      "Requirement already satisfied: bs4 in c:\\users\\pramo\\appdata\\local\\programs\\python\\python312\\lib\\site-packages (from autoscraper) (0.0.2)\n",
      "Requirement already satisfied: lxml in c:\\users\\pramo\\appdata\\local\\programs\\python\\python312\\lib\\site-packages (from autoscraper) (5.2.1)\n",
      "Requirement already satisfied: beautifulsoup4 in c:\\users\\pramo\\appdata\\local\\programs\\python\\python312\\lib\\site-packages (from bs4->autoscraper) (4.12.3)\n",
      "Requirement already satisfied: charset-normalizer<4,>=2 in c:\\users\\pramo\\appdata\\local\\programs\\python\\python312\\lib\\site-packages (from requests->autoscraper) (3.3.2)\n",
      "Requirement already satisfied: idna<4,>=2.5 in c:\\users\\pramo\\appdata\\local\\programs\\python\\python312\\lib\\site-packages (from requests->autoscraper) (3.6)\n",
      "Requirement already satisfied: urllib3<3,>=1.21.1 in c:\\users\\pramo\\appdata\\local\\programs\\python\\python312\\lib\\site-packages (from requests->autoscraper) (2.2.0)\n",
      "Requirement already satisfied: certifi>=2017.4.17 in c:\\users\\pramo\\appdata\\local\\programs\\python\\python312\\lib\\site-packages (from requests->autoscraper) (2024.2.2)\n",
      "Requirement already satisfied: soupsieve>1.2 in c:\\users\\pramo\\appdata\\local\\programs\\python\\python312\\lib\\site-packages (from beautifulsoup4->bs4->autoscraper) (2.5)\n"
     ]
    }
   ],
   "source": [
    "!pip install autoscraper"
   ]
  },
  {
   "cell_type": "code",
   "execution_count": 2,
   "id": "0c2c5ee3-1103-44a5-937a-b6b07f206109",
   "metadata": {},
   "outputs": [],
   "source": [
    "from autoscraper import AutoScraper"
   ]
  },
  {
   "cell_type": "code",
   "execution_count": 3,
   "id": "5bfd1009-bfa9-46b7-af1c-22613e9760cc",
   "metadata": {},
   "outputs": [],
   "source": [
    "amazon_link= 'https://www.amazon.in/s?k=iphones'\n",
    "wanted_list=[\"₹49,299 \",\"Apple iPhone 13 (128GB) - Midnight\"]"
   ]
  },
  {
   "cell_type": "code",
   "execution_count": 4,
   "id": "2a5dd2c8-4e5e-4dcc-9ccf-9b277991016a",
   "metadata": {},
   "outputs": [
    {
     "name": "stdout",
     "output_type": "stream",
     "text": [
      "['₹49,299', '₹58,999', '₹73,100', '₹49,999', '₹82,600', '₹1,48,900', '₹1,37,990', 'Apple iPhone 13 (128GB) - Starlight', 'Apple iPhone 13 (128GB) - Midnight', 'Apple iPhone 14 (128 GB) - Midnight', 'Apple iPhone 15 (128 GB) - Blue', 'Apple iPhone 13 (128GB) - Pink', 'Apple iPhone 14 (128 GB) - Purple', 'Apple iPhone 15 (128 GB) - Green', 'Apple iPhone 14 (128 GB) - Starlight', 'Apple iPhone 13 (128GB) - Green', 'Apple iPhone 15 (256 GB) - Blue', 'Apple iPhone 15 (128 GB) - Pink', 'Apple iPhone 15 Plus (128 GB) - Blue', 'Apple iPhone 15 Pro Max (256 GB) - Blue Titanium', 'Apple iPhone 15 Plus (128 GB) - Black', 'Apple iPhone 15 (128 GB) - Black', 'Apple iPhone 15 Pro (256 GB) - Natural Titanium']\n"
     ]
    }
   ],
   "source": [
    "scraper=AutoScraper()\n",
    "result=scraper.build(amazon_link,wanted_list)\n",
    "print(result)"
   ]
  },
  {
   "cell_type": "code",
   "execution_count": 6,
   "id": "592255b1-abc4-40a6-9b50-3cf1fcd37ece",
   "metadata": {},
   "outputs": [
    {
     "data": {
      "text/plain": [
       "{'rule_143u': ['₹49,299',\n",
       "  '₹49,299',\n",
       "  '₹58,999',\n",
       "  '₹73,100',\n",
       "  '₹49,999',\n",
       "  '₹58,999',\n",
       "  '₹73,100',\n",
       "  '₹58,999',\n",
       "  '₹49,999',\n",
       "  '₹82,600',\n",
       "  '₹73,100',\n",
       "  '₹82,600',\n",
       "  '₹1,48,900',\n",
       "  '₹82,600',\n",
       "  '₹73,100',\n",
       "  '₹1,37,990'],\n",
       " 'rule_79h2': ['₹49,299',\n",
       "  '₹49,299',\n",
       "  '₹58,999',\n",
       "  '₹73,100',\n",
       "  '₹49,999',\n",
       "  '₹58,999',\n",
       "  '₹73,100',\n",
       "  '₹58,999',\n",
       "  '₹49,999',\n",
       "  '₹82,600',\n",
       "  '₹73,100',\n",
       "  '₹82,600',\n",
       "  '₹1,48,900',\n",
       "  '₹82,600',\n",
       "  '₹73,100',\n",
       "  '₹1,37,990'],\n",
       " 'rule_a00s': ['₹49,299',\n",
       "  '₹49,299',\n",
       "  '₹58,999',\n",
       "  '₹73,100',\n",
       "  '₹49,999',\n",
       "  '₹58,999',\n",
       "  '₹73,100',\n",
       "  '₹58,999',\n",
       "  '₹49,999',\n",
       "  '₹82,600',\n",
       "  '₹73,100',\n",
       "  '₹82,600',\n",
       "  '₹1,48,900',\n",
       "  '₹82,600',\n",
       "  '₹73,100',\n",
       "  '₹1,37,990'],\n",
       " 'rule_s8z1': ['₹49,299',\n",
       "  '₹49,299',\n",
       "  '₹58,999',\n",
       "  '₹73,100',\n",
       "  '₹49,999',\n",
       "  '₹58,999',\n",
       "  '₹73,100',\n",
       "  '₹58,999',\n",
       "  '₹49,999',\n",
       "  '₹82,600',\n",
       "  '₹73,100',\n",
       "  '₹82,600',\n",
       "  '₹1,48,900',\n",
       "  '₹82,600',\n",
       "  '₹73,100',\n",
       "  '₹1,37,990'],\n",
       " 'rule_zpjx': ['₹49,299', '₹73,100'],\n",
       " 'rule_3nmo': ['₹49,299', '₹73,100'],\n",
       " 'rule_1v26': ['Apple iPhone 13 (128GB) - Starlight',\n",
       "  'Apple iPhone 13 (128GB) - Midnight',\n",
       "  'Apple iPhone 14 (128 GB) - Midnight',\n",
       "  'Apple iPhone 15 (128 GB) - Blue',\n",
       "  'Apple iPhone 13 (128GB) - Pink',\n",
       "  'Apple iPhone 14 (128 GB) - Purple',\n",
       "  'Apple iPhone 15 (128 GB) - Green',\n",
       "  'Apple iPhone 14 (128 GB) - Starlight',\n",
       "  'Apple iPhone 13 (128GB) - Green',\n",
       "  'Apple iPhone 15 (256 GB) - Blue',\n",
       "  'Apple iPhone 15 (128 GB) - Pink',\n",
       "  'Apple iPhone 15 Plus (128 GB) - Blue',\n",
       "  'Apple iPhone 15 Pro Max (256 GB) - Blue Titanium',\n",
       "  'Apple iPhone 15 Plus (128 GB) - Black',\n",
       "  'Apple iPhone 15 (128 GB) - Black',\n",
       "  'Apple iPhone 15 Pro (256 GB) - Natural Titanium'],\n",
       " 'rule_5t1n': ['Apple iPhone 13 (128GB) - Starlight',\n",
       "  'Apple iPhone 13 (128GB) - Midnight',\n",
       "  'Apple iPhone 14 (128 GB) - Midnight',\n",
       "  'Apple iPhone 15 (128 GB) - Blue',\n",
       "  'Apple iPhone 13 (128GB) - Pink',\n",
       "  'Apple iPhone 14 (128 GB) - Purple',\n",
       "  'Apple iPhone 15 (128 GB) - Green',\n",
       "  'Apple iPhone 14 (128 GB) - Starlight',\n",
       "  'Apple iPhone 13 (128GB) - Green',\n",
       "  'Apple iPhone 15 (256 GB) - Blue',\n",
       "  'Apple iPhone 15 (128 GB) - Pink',\n",
       "  'Apple iPhone 15 Plus (128 GB) - Blue',\n",
       "  'Apple iPhone 15 Pro Max (256 GB) - Blue Titanium',\n",
       "  'Apple iPhone 15 Plus (128 GB) - Black',\n",
       "  'Apple iPhone 15 (128 GB) - Black',\n",
       "  'Apple iPhone 15 Pro (256 GB) - Natural Titanium'],\n",
       " 'rule_cfa8': ['Apple iPhone 13 (128GB) - Midnight',\n",
       "  'Apple iPhone 15 (128 GB) - Black']}"
      ]
     },
     "execution_count": 6,
     "metadata": {},
     "output_type": "execute_result"
    }
   ],
   "source": [
    "scraper.get_result_similar(amazon_link,grouped=True)"
   ]
  },
  {
   "cell_type": "code",
   "execution_count": 9,
   "id": "c35aaf63-339e-4df9-9a9b-4d6bd2bc47a0",
   "metadata": {},
   "outputs": [],
   "source": [
    "scraper.set_rule_aliases({'rule_1v26':'Title','rule_143u':'Price'})\n",
    "scraper.keep_rules(['rule_1v26','rule_143u'])\n",
    "scraper.save('amazon-search')"
   ]
  },
  {
   "cell_type": "code",
   "execution_count": 19,
   "id": "e1fa8a09-2bc6-4cee-818a-6facdb3fd059",
   "metadata": {},
   "outputs": [],
   "source": [
    "results=scraper.get_result_similar(amazon_link,group_by_alias=True)"
   ]
  },
  {
   "cell_type": "code",
   "execution_count": 20,
   "id": "9e90b916-b978-4ec5-9e64-2adb0658880f",
   "metadata": {},
   "outputs": [
    {
     "data": {
      "text/plain": [
       "['Apple iPhone 13 (128GB) - Starlight',\n",
       " 'Apple iPhone 13 (128GB) - Midnight',\n",
       " 'Apple iPhone 14 (128 GB) - Midnight',\n",
       " 'Apple iPhone 15 (128 GB) - Blue',\n",
       " 'Apple iPhone 13 (128GB) - Pink',\n",
       " 'Apple iPhone 14 (128 GB) - Purple',\n",
       " 'Apple iPhone 15 (128 GB) - Green',\n",
       " 'Apple iPhone 14 (128 GB) - Starlight',\n",
       " 'Apple iPhone 13 (128GB) - Green',\n",
       " 'Apple iPhone 15 (256 GB) - Blue',\n",
       " 'Apple iPhone 15 (128 GB) - Pink',\n",
       " 'Apple iPhone 15 Plus (128 GB) - Blue',\n",
       " 'Apple iPhone 15 Pro Max (256 GB) - Blue Titanium',\n",
       " 'Apple iPhone 15 Plus (128 GB) - Black',\n",
       " 'Apple iPhone 15 (128 GB) - Black',\n",
       " 'Apple iPhone 15 Pro (256 GB) - Natural Titanium']"
      ]
     },
     "execution_count": 20,
     "metadata": {},
     "output_type": "execute_result"
    }
   ],
   "source": [
    "results['Title']"
   ]
  },
  {
   "cell_type": "code",
   "execution_count": null,
   "id": "9c1fb236-f8e1-4023-9ade-5b0d86650628",
   "metadata": {},
   "outputs": [],
   "source": []
  }
 ],
 "metadata": {
  "kernelspec": {
   "display_name": "Python 3 (ipykernel)",
   "language": "python",
   "name": "python3"
  },
  "language_info": {
   "codemirror_mode": {
    "name": "ipython",
    "version": 3
   },
   "file_extension": ".py",
   "mimetype": "text/x-python",
   "name": "python",
   "nbconvert_exporter": "python",
   "pygments_lexer": "ipython3",
   "version": "3.12.2"
  }
 },
 "nbformat": 4,
 "nbformat_minor": 5
}
